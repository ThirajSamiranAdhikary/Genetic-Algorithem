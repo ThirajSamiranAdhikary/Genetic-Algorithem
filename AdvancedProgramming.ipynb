{
  "nbformat": 4,
  "nbformat_minor": 0,
  "metadata": {
    "colab": {
      "provenance": [],
      "authorship_tag": "ABX9TyM7TxHUNCbxfEY0EixIK7VD",
      "include_colab_link": true
    },
    "kernelspec": {
      "name": "python3",
      "display_name": "Python 3"
    },
    "language_info": {
      "name": "python"
    }
  },
  "cells": [
    {
      "cell_type": "markdown",
      "metadata": {
        "id": "view-in-github",
        "colab_type": "text"
      },
      "source": [
        "<a href=\"https://colab.research.google.com/github/ThirajSamiranAdhikary/Genetic-Algorithem/blob/main/AdvancedProgramming.ipynb\" target=\"_parent\"><img src=\"https://colab.research.google.com/assets/colab-badge.svg\" alt=\"Open In Colab\"/></a>"
      ]
    },
    {
      "cell_type": "markdown",
      "source": [
        "Question 1"
      ],
      "metadata": {
        "id": "ljgbDtU21bTn"
      }
    },
    {
      "cell_type": "code",
      "execution_count": null,
      "metadata": {
        "id": "8WCnXF2L1Z57"
      },
      "outputs": [],
      "source": [
        "N=int(input(\"Enter the value of N:\")) #to get value of N\n",
        "sum=0\n",
        "while N>0:\n",
        "  x=float(input(\"Enter the number:\")) \n",
        "  sum=sum+x\n",
        "  N=N-1\n",
        "average=sum/N\n",
        "print(f\"Average = {average}\")"
      ]
    },
    {
      "cell_type": "markdown",
      "source": [
        "Question 2"
      ],
      "metadata": {
        "id": "WDHLfcdW2YxF"
      }
    },
    {
      "cell_type": "code",
      "source": [
        "N=int(input(\"Enter the value of N:\"))\n",
        "y=0 # count of numbers which are greater than 10\n",
        "sum=0\n",
        "while N>0:\n",
        "  x=float(input(\"Enter the number:\"))\n",
        "  if x>=10:\n",
        "    sum=sum+x\n",
        "    y=y+1\n",
        "  N=N-1\n",
        "average=sum/y\n",
        "print(f\"Average = {average}\")"
      ],
      "metadata": {
        "id": "s6OsZwd22bhr"
      },
      "execution_count": null,
      "outputs": []
    },
    {
      "cell_type": "markdown",
      "source": [
        "Question 3"
      ],
      "metadata": {
        "id": "IDEyKfiw3Y92"
      }
    },
    {
      "cell_type": "code",
      "source": [
        "N=int(input(\"Enter the value of N:\"))\n",
        "numList=[] #creating empty list\n",
        "max=0\n",
        "while N>0:\n",
        "  x=float(input(\"Enter the number:\"))\n",
        "  numList.append(x)\n",
        "  N=N-1\n",
        "print(numList)\n",
        "min=numList[0]\n",
        "for i in numList:\n",
        "  if min>i:\n",
        "    min=i\n",
        "\n",
        "for i in numList:\n",
        "  if max<i:\n",
        "    max=i\n",
        "\n",
        "print(min)\n",
        "print(max)\n",
        "   \n",
        "\n"
      ],
      "metadata": {
        "id": "6VN6lJyg3YfW"
      },
      "execution_count": null,
      "outputs": []
    },
    {
      "cell_type": "markdown",
      "source": [
        "Question 4"
      ],
      "metadata": {
        "id": "gAis5j60TGIR"
      }
    },
    {
      "cell_type": "code",
      "source": [
        "N=int(input(\"Enter the value of N:\"))\n",
        "numList=[] #creating empty list\n",
        "max=0\n",
        "while N>0:\n",
        "  x=float(input(\"Enter the number:\"))\n",
        "  numList.append(x)\n",
        "  N=N-1\n",
        "print(numList)\n",
        "numList.sort()\n",
        "print(numList[2])\n"
      ],
      "metadata": {
        "id": "M0JZ48-mTJMr"
      },
      "execution_count": null,
      "outputs": []
    },
    {
      "cell_type": "markdown",
      "source": [
        "Question 5"
      ],
      "metadata": {
        "id": "v6QQjxrNTExL"
      }
    },
    {
      "cell_type": "code",
      "source": [
        "def gcd():\n",
        "  num1=int(input(\"Enter the number 1: \"))\n",
        "  num2=int(input(\"Enter the number 2: \"))\n",
        "  gcd=0 #grate common divisor\n",
        "  min= num1 if num1<num2 else num2\n",
        "  while min>0:\n",
        "    if num1%min==0 and num2%min==0:\n",
        "      gcd = min\n",
        "      break\n",
        "    min=min-1\n",
        "  print(f\"GCD = {gcd}\")\n",
        "\n",
        "gcd()\n",
        "  \n"
      ],
      "metadata": {
        "id": "Oh5kY84yTH6p"
      },
      "execution_count": null,
      "outputs": []
    },
    {
      "cell_type": "markdown",
      "source": [
        "Question 6"
      ],
      "metadata": {
        "id": "E8pcMJNQcrpI"
      }
    },
    {
      "cell_type": "code",
      "source": [
        "def lcf():\n",
        "  num1=int(input(\"Enter the number 1: \"))\n",
        "  num2=int(input(\"Enter the number 2: \"))\n",
        "  num1list=[]\n",
        "  num2fac=0\n",
        "  lcf=0\n",
        "  for i in range(1,500): # factor list of num1\n",
        "    num1list.append(i*num1)\n",
        "\n",
        "  for i in range(1,500): #factor of num2\n",
        "    num2fac=i*num2 \n",
        "    if num2fac in num1list:\n",
        "      lcf=num2fac\n",
        "      break\n",
        "  print(f\"LCF = {lcf}\")\n",
        "\n",
        "lcf()\n",
        "\n",
        "  \n",
        "\n"
      ],
      "metadata": {
        "id": "YxkprQ4scvci"
      },
      "execution_count": null,
      "outputs": []
    }
  ]
}